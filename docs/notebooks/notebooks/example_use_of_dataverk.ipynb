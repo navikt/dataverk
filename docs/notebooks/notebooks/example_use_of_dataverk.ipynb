{
 "cells": [
  {
   "cell_type": "markdown",
   "metadata": {},
   "source": [
    "# Simple use of Dataverk"
   ]
  },
  {
   "cell_type": "markdown",
   "metadata": {},
   "source": [
    "#### Import libraries\n"
   ]
  },
  {
   "cell_type": "code",
   "execution_count": 6,
   "metadata": {},
   "outputs": [],
   "source": [
    "import dataverk\n",
    "import pandas as pd\n",
    "import dataparcel"
   ]
  },
  {
   "cell_type": "markdown",
   "metadata": {},
   "source": [
    "#### Set environment variables used by dataverk. Read more about environment variables here: https://medium.com/chingu/an-introduction-to-environment-variables-and-how-to-use-them-f602f66d15fa"
   ]
  },
  {
   "cell_type": "code",
   "execution_count": 2,
   "metadata": {},
   "outputs": [],
   "source": [
    "from os import environ\n",
    "\n",
    "environ[\"DATAVERK_SECRETS_FROM_API\"] = \"True\""
   ]
  },
  {
   "cell_type": "markdown",
   "metadata": {},
   "source": [
    "#### Instansiate a dataverk object\n",
    "The dataverk object handles settings and configurations for the connector resources. Database connection url´s, authentication etc."
   ]
  },
  {
   "cell_type": "code",
   "execution_count": null,
   "metadata": {},
   "outputs": [],
   "source": [
    "dv = dataverk.Dataverk()"
   ]
  },
  {
   "cell_type": "markdown",
   "metadata": {},
   "source": [
    "#### Connect to a resource\n",
    "The dataverk object contains methods to connect to and query different internal resources. Dataverk handles the connection strings and authentication under the hood."
   ]
  },
  {
   "cell_type": "code",
   "execution_count": 5,
   "metadata": {},
   "outputs": [],
   "source": [
    "df = dv.read_sql(\"datalab\", \"SELECT * FROM mytable\")"
   ]
  },
  {
   "cell_type": "code",
   "execution_count": 4,
   "metadata": {},
   "outputs": [],
   "source": [
    "# Create metadata for data package\n",
    "datapackage_metadata = {\n",
    "    \"id\": \"your-package-id\",\n",
    "    \"name\": \"your-package-name\",\n",
    "    \"publisher\": \"publisher-name\",\n",
    "    \"author\": \"author-email\",\n",
    "    \"title\": \"your-package-title\",\n",
    "    \"description\": \"\",\n",
    "    \"status\": \"\\u00c5pent\",\n",
    "    \"sources\": [],\n",
    "    \"content_type\": \"json\",\n",
    "    \"language\": \"Norsk\",\n",
    "    \"licence\": \"\",\n",
    "    \"distributions\": [],\n",
    "    \"keywords\": [],\n",
    "    \"accessRights\": \"Unntatt offentlighet\",\n",
    "    \"auth\": [], \n",
    "    \"theme\": [\"package-theme\"],\n",
    "    \"geo\": [\"Norge\"]\n",
    "}"
   ]
  },
  {
   "cell_type": "code",
   "execution_count": null,
   "metadata": {},
   "outputs": [],
   "source": [
    "dp = dataparcel.Datapackage(metadata=datapackage_metadata)"
   ]
  },
  {
   "cell_type": "markdown",
   "metadata": {},
   "source": [
    "#### Add resource to the datapackage"
   ]
  },
  {
   "cell_type": "code",
   "execution_count": null,
   "metadata": {},
   "outputs": [],
   "source": [
    "dp.add_resource(df, \"resource-name\", \"Resource description\")"
   ]
  },
  {
   "cell_type": "markdown",
   "metadata": {},
   "source": [
    "#### (Optional) Add view to the datapackage"
   ]
  },
  {
   "cell_type": "code",
   "execution_count": null,
   "metadata": {},
   "outputs": [],
   "source": [
    "dp.add_view(\n",
    "    spec_type='table',\n",
    "    description = \"view description\",\n",
    "    name='view name',\n",
    "    title='view title',\n",
    "    resources = 'resource-name'\n",
    ")"
   ]
  },
  {
   "cell_type": "markdown",
   "metadata": {},
   "source": [
    "#### (Optional) Write the datapackage to disk. This creates a metdata file and a csv files for the added resources"
   ]
  },
  {
   "cell_type": "code",
   "execution_count": null,
   "metadata": {},
   "outputs": [],
   "source": [
    "dp.write_datapackage()"
   ]
  },
  {
   "cell_type": "markdown",
   "metadata": {},
   "source": [
    "#### Datverk publish method publishes datapackage to the elastic search index and bucket storgage"
   ]
  },
  {
   "cell_type": "code",
   "execution_count": null,
   "metadata": {},
   "outputs": [],
   "source": [
    "dv.publish(dp)"
   ]
  },
  {
   "cell_type": "code",
   "execution_count": null,
   "metadata": {},
   "outputs": [],
   "source": []
  }
 ],
 "metadata": {
  "kernelspec": {
   "display_name": "Python 3",
   "language": "python",
   "name": "python3"
  },
  "language_info": {
   "codemirror_mode": {
    "name": "ipython",
    "version": 3
   },
   "file_extension": ".py",
   "mimetype": "text/x-python",
   "name": "python",
   "nbconvert_exporter": "python",
   "pygments_lexer": "ipython3",
   "version": "3.7.2"
  }
 },
 "nbformat": 4,
 "nbformat_minor": 2
}
