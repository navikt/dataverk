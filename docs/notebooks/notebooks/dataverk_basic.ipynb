{
 "cells": [
  {
   "cell_type": "markdown",
   "metadata": {
    "lines_to_next_cell": 0
   },
   "source": [
    "# Basic dataverk usage\n",
    "This example shows simple dataverk usage for ETL:\n",
    "- Retrieving data from a web-endpoint\n",
    "- Transforming the data\n",
    "- Packaging the data resources and metadata\n",
    "- Publishing the resulting package  \n",
    "\n",
    "## Import libraries"
   ]
  },
  {
   "cell_type": "code",
   "execution_count": null,
   "metadata": {},
   "outputs": [],
   "source": [
    "import plotly.graph_objs as go\n",
    "import plotly.io as plio\n",
    "\n",
    "from dataverk import Client, Datapackage"
   ]
  },
  {
   "cell_type": "markdown",
   "metadata": {
    "lines_to_next_cell": 0
   },
   "source": [
    "## Instanciate context object"
   ]
  },
  {
   "cell_type": "code",
   "execution_count": null,
   "metadata": {},
   "outputs": [],
   "source": [
    "dv = Client()"
   ]
  },
  {
   "cell_type": "markdown",
   "metadata": {
    "lines_to_next_cell": 0
   },
   "source": [
    "## Read data"
   ]
  },
  {
   "cell_type": "code",
   "execution_count": null,
   "metadata": {},
   "outputs": [],
   "source": [
    "df = dv.read_json_stat('https://data.ssb.no/api/v0/no/table/09665')"
   ]
  },
  {
   "cell_type": "markdown",
   "metadata": {
    "lines_to_next_cell": 0
   },
   "source": [
    "## View dataframe\n",
    "View the first five rows of dataset"
   ]
  },
  {
   "cell_type": "code",
   "execution_count": null,
   "metadata": {},
   "outputs": [],
   "source": [
    "df.head(5)"
   ]
  },
  {
   "cell_type": "markdown",
   "metadata": {
    "lines_to_next_cell": 0
   },
   "source": [
    "## Transform data\n",
    "Transforming the data into separate dataframes"
   ]
  },
  {
   "cell_type": "code",
   "execution_count": null,
   "metadata": {},
   "outputs": [],
   "source": [
    "df_e = df[(df['kjønn']!='Begge kjønn') & (df['statistikkvariabel']=='Sykefraværsprosent, ikke-sesongjustert')]\n",
    "df_m = df[(df['kjønn']=='Menn') & (df['type sykefravær']=='Egenmeldt og legemeldt') & (df['statistikkvariabel']=='Sykefraværsprosent, ikke-sesongjustert')]\n",
    "df_k = df[(df['kjønn']=='Kvinner') & (df['type sykefravær']=='Egenmeldt og legemeldt') & (df['statistikkvariabel']=='Sykefraværsprosent, ikke-sesongjustert')]"
   ]
  },
  {
   "cell_type": "markdown",
   "metadata": {
    "lines_to_next_cell": 0
   },
   "source": [
    "## Create data views\n",
    "Create a scatter plot"
   ]
  },
  {
   "cell_type": "code",
   "execution_count": null,
   "metadata": {
    "lines_to_next_cell": 0
   },
   "outputs": [],
   "source": [
    "data = [ go.Scatter(\n",
    "            x=df_m['kvartal'], \n",
    "            y=df_m['value'],\n",
    "            name='Menn'\n",
    "            ),\n",
    "        go.Scatter(\n",
    "            x=df_k['kvartal'], \n",
    "            y=df_k['value'],\n",
    "            name='Kvinner'\n",
    "            )\n",
    "       ]\n",
    "\n",
    "layout = go.Layout(title='Sykefravær i norge')\n",
    "fig_1 = go.Figure(data,layout)\n",
    "\n",
    "go.FigureWidget(data,layout)"
   ]
  },
  {
   "cell_type": "markdown",
   "metadata": {
    "lines_to_next_cell": 0
   },
   "source": [
    "Create a barchart"
   ]
  },
  {
   "cell_type": "code",
   "execution_count": null,
   "metadata": {},
   "outputs": [],
   "source": [
    "data = [ go.Bar(\n",
    "     x=df_m['kvartal'], \n",
    "     y=df_m['value'],\n",
    "     name='Menn'\n",
    "),\n",
    "go.Bar(\n",
    "    x=df_k['kvartal'], \n",
    "    y=df_k['value'],\n",
    "    name='Kvinner'\n",
    ")\n",
    "]\n",
    "\n",
    "layout = go.Layout(\n",
    "    barmode='stack'\n",
    ")\n",
    "\n",
    "layout = go.Layout(title='Sykefravær')\n",
    "fig_2 = go.Figure(data,layout)\n",
    "\n",
    "go.FigureWidget(data,layout)"
   ]
  },
  {
   "cell_type": "markdown",
   "metadata": {
    "lines_to_next_cell": 0
   },
   "source": [
    "## Create datapackage\n",
    "Instanciate the datapackage object with metadata"
   ]
  },
  {
   "cell_type": "code",
   "execution_count": null,
   "metadata": {},
   "outputs": [],
   "source": [
    "readme = \"\"\"\n",
    "# SSB Sykefravær\n",
    "Sykefravær for lønnstakere, etter kjønn og type sykefravær. Sesongjustert og ikke-sesongjustert (prosent) (avslutta serie) 2000K2 - 2018K4\n",
    "\n",
    "kilde: ['SSB tabell 09665']('https://www.ssb.no/statbank/table/09665')\n",
    "\"\"\"\n",
    "\n",
    "metadata = {\n",
    "    \"title\": \"SSB Sykefravær\",\n",
    "    \"readme\": readme,\n",
    "    \"licence\": \"MIT\",\n",
    "    \"auth\": \"NAV\",\n",
    "    \"provenance\": \"SSB\",\n",
    "    \"store\": \"gs\",\n",
    "    \"bucket\": \"nav-opendata\",\n",
    "    \"description\": \"SSB Sykefravær\",\n",
    "    \"keywords\": [\"SSB\", \"Sykefravær\", \"\"],\n",
    "    \"publisher\": \"NAV\"\n",
    "}\n",
    "\n",
    "dp = Datapackage(metadata)"
   ]
  },
  {
   "cell_type": "markdown",
   "metadata": {
    "lines_to_next_cell": 0
   },
   "source": [
    "## Add resources"
   ]
  },
  {
   "cell_type": "code",
   "execution_count": null,
   "metadata": {},
   "outputs": [],
   "source": [
    "dp.add_resource(df_e, \"Egenmeldt og legemeldt\")\n",
    "dp.add_resource(df_m, \"Sykefravær menn egenmeldt og legemeldt\")\n",
    "dp.add_resource(df_k, \"Sykefravær kvinner egenmeldt og legemeldt\")"
   ]
  },
  {
   "cell_type": "markdown",
   "metadata": {
    "lines_to_next_cell": 0
   },
   "source": [
    "## Add views\n",
    "Add scatter plot view to datapackage"
   ]
  },
  {
   "cell_type": "code",
   "execution_count": null,
   "metadata": {
    "lines_to_next_cell": 0
   },
   "outputs": [],
   "source": [
    "desc = '''\n",
    "### Sykefravær.\n",
    "\n",
    "Egenmeldt og legemeldt. Sykefraværsprosent, ikke-sesongjustert\n",
    "'''\n",
    "\n",
    "dp.add_view(\n",
    "    spec_type='plotly',\n",
    "    name='Sykefravær',\n",
    "    title='Sykefravær',\n",
    "    description =desc,\n",
    "    spec= plio.to_json(fig_1),\n",
    "    resources=''\n",
    ")"
   ]
  },
  {
   "cell_type": "markdown",
   "metadata": {
    "lines_to_next_cell": 0
   },
   "source": [
    "Add barchart view to datapackage"
   ]
  },
  {
   "cell_type": "code",
   "execution_count": null,
   "metadata": {},
   "outputs": [],
   "source": [
    "desc = '''\n",
    "### Sykefravær.\n",
    "\n",
    "Egenmeldt og legemeldt. Sykefraværsprosent, ikke-sesongjustert\n",
    "'''\n",
    "\n",
    "dp.add_view(\n",
    "    spec_type='plotly',\n",
    "    name='Sykefravær',\n",
    "    title='Sykefravær',\n",
    "    description =desc,\n",
    "    spec= plio.to_json(fig_2),\n",
    "    resources=''\n",
    ")"
   ]
  },
  {
   "cell_type": "markdown",
   "metadata": {
    "lines_to_next_cell": 0
   },
   "source": [
    "## Publish data to bucket storage and metadata to es index"
   ]
  },
  {
   "cell_type": "code",
   "execution_count": null,
   "metadata": {
    "lines_to_next_cell": 0
   },
   "outputs": [],
   "source": [
    "# dv.publish(dp)"
   ]
  },
  {
   "cell_type": "markdown",
   "metadata": {},
   "source": [
    "\n",
    "\n",
    "\n",
    "\n",
    "\n",
    "\n",
    "\n",
    "\n",
    "\n",
    "\n",
    "\n",
    "\n",
    "\n",
    "\n",
    "\n",
    "\n",
    "\n",
    "\n",
    "\n",
    "\n",
    "\n",
    "\n",
    "\n",
    "\n",
    "\n",
    "\n",
    "\n"
   ]
  }
 ],
 "metadata": {
  "jupytext": {
   "cell_metadata_filter": "-all",
   "main_language": "python",
   "notebook_metadata_filter": "-all"
  }
 },
 "nbformat": 4,
 "nbformat_minor": 2
}
