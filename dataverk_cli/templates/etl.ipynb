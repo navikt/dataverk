{
 "cells": [
  {
   "cell_type": "markdown",
   "metadata": {},
   "source": [
    "# Dataverk\n",
    "\n",
    "Dataverk gjør det enkelt å lage data pipelines som publiserer og oppdaterer datapakker. Denne filen inneholder et eksempel på hvordan man kan lage en data pipeline."
   ]
  },
  {
   "cell_type": "markdown",
   "metadata": {},
   "source": [
    "### Begreper\n",
    "* **Data pipeline:** En jobb som kjører med en viss frekvens (som definert i data pipelinens schedule), og som publiserer og oppdaterer datapakker basert på logikken definert denne filen.\n",
    "* **Datapakke / data package:** Ett eller flere datasett med tilhørende metadata.\n",
    "* **Datasett:** Typisk en tabell, her materialisert som en fil.\n",
    "* **Metadata:** Beskrivelse av datapakken og datasettene i datapakken. Dette må manuelt legges inn i filen **metadata.json**."
   ]
  },
  {
   "cell_type": "markdown",
   "metadata": {},
   "source": [
    "### Data pipeline\n",
    "Kun celler som starter med ```#export``` vil bli en del av den publiserte data pipelinen (og vil dermed kjøre regelmessig som definert i cronjob'en)."
   ]
  },
  {
   "cell_type": "code",
   "execution_count": null,
   "metadata": {
    "scrolled": true
   },
   "outputs": [],
   "source": [
    "#export\n",
    "import dataverk as dv"
   ]
  },
  {
   "cell_type": "code",
   "execution_count": null,
   "metadata": {},
   "outputs": [],
   "source": [
    "#export\n",
    "\n",
    "\n",
    "# Importer kildedata som en dataframe \n",
    "# Kilden her er databasen 'datalab', og spørringen ligger i filen 'mydata.sql'\n",
    "# Credentials for 'datalab' ligger i Vault\n",
    "dp = dv.Datapackage(public=True)\n",
    "df = dp.read_sql(source='datalab', sql='sql/mydata.sql')"
   ]
  },
  {
   "cell_type": "code",
   "execution_count": null,
   "metadata": {},
   "outputs": [],
   "source": [
    "# Ser på de første radene i dataframen. Denne cellen blir ikke en del av pipelinen.\n",
    "df.head()"
   ]
  },
  {
   "cell_type": "code",
   "execution_count": null,
   "metadata": {},
   "outputs": [],
   "source": [
    "# Eksempel på transformasjoner man kan gjøre. Med dataverk får man pandas på kjøpet.\n",
    "#df = df.groupby(['date','color')].count()"
   ]
  },
  {
   "cell_type": "code",
   "execution_count": null,
   "metadata": {},
   "outputs": [],
   "source": [
    "# Ser på dataframen igjen etter transformasjonen\n",
    "df.head()"
   ]
  },
  {
   "cell_type": "code",
   "execution_count": null,
   "metadata": {},
   "outputs": [],
   "source": [
    "#export\n",
    "\n",
    "# Legger dataframen til som en ressurs i datapakken\n",
    "dp.add_resource(df, dataset_name='Mitt Fargerike Datasett', dataset_description=\"Beskrivelse av Mitt Fargerike datasett\")"
   ]
  },
  {
   "cell_type": "code",
   "execution_count": null,
   "metadata": {},
   "outputs": [],
   "source": [
    "#export\n",
    "\n",
    "# Publiserer datapakken\n",
    "dp.publish()"
   ]
  }
 ],
 "metadata": {
  "kernelspec": {
   "display_name": "Python 3",
   "language": "python",
   "name": "python3"
  },
  "language_info": {
   "codemirror_mode": {
    "name": "ipython",
    "version": 3
   },
   "file_extension": ".py",
   "mimetype": "text/x-python",
   "name": "python",
   "nbconvert_exporter": "python",
   "pygments_lexer": "ipython3",
   "version": "3.6.6"
  }
 },
 "nbformat": 4,
 "nbformat_minor": 2
}
